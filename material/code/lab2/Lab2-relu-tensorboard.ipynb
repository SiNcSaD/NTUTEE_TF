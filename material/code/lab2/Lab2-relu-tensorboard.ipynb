{
 "cells": [
  {
   "cell_type": "markdown",
   "metadata": {},
   "source": [
    "# 手寫數字辨識\n",
    "Author: WeiHong Lee"
   ]
  },
  {
   "cell_type": "code",
   "execution_count": null,
   "metadata": {
    "scrolled": true
   },
   "outputs": [],
   "source": [
    "import tensorflow as tf\n",
    "import tensorflow.examples.tutorials.mnist.input_data as input_data\n",
    "mnist = input_data.read_data_sets(\"MNIST/MNIST_data/\", one_hot=True)\n",
    "print('train image:', mnist.train.images.shape)\n",
    "print('train label:', mnist.train.labels.shape)\n",
    "print('test image:', mnist.test.images.shape)\n",
    "print('test label:', mnist.test.labels.shape)"
   ]
  },
  {
   "cell_type": "code",
   "execution_count": null,
   "metadata": {},
   "outputs": [],
   "source": [
    "# Hyper-Parameters\n",
    "learning_rate = 0.001\n",
    "batch_size = 100\n",
    "total_step = 3000\n",
    "\n",
    "# Network Parameters\n",
    "n_input = 784\n",
    "n_hidden_1 = 512\n",
    "n_hidden_2 = 512\n",
    "n_classes = 10"
   ]
  },
  {
   "cell_type": "code",
   "execution_count": null,
   "metadata": {},
   "outputs": [],
   "source": [
    "x = tf.placeholder(tf.float32, [None, n_input])\n",
    "y_ = tf.placeholder(tf.float32, [None, n_classes])\n",
    "\n",
    "with tf.name_scope('hidden1'):\n",
    "    weights = tf.Variable(tf.random_normal([n_input, n_hidden_1]),\n",
    "                          name='weights')\n",
    "    biases = tf.Variable(tf.zeros([n_hidden_1]),\n",
    "                         name='biases')\n",
    "    layer_1 = tf.nn.relu(tf.matmul(x, weights) + biases)\n",
    "    \n",
    "with tf.name_scope('hidden2'):\n",
    "    weights = tf.Variable(tf.random_normal([n_hidden_1, n_hidden_2]),\n",
    "                          name='weights')\n",
    "    biases = tf.Variable(tf.zeros([n_hidden_2]),\n",
    "                         name='biases')\n",
    "    layer_2 = tf.nn.relu(tf.matmul(layer_1, weights) + biases)\n",
    "\n",
    "with tf.name_scope('output'):\n",
    "    weights = tf.Variable(tf.random_normal([n_hidden_2, n_classes]),\n",
    "                          name='weights')\n",
    "    biases = tf.Variable(tf.zeros([n_classes]),\n",
    "                         name='biases')\n",
    "    logits = tf.matmul(layer_2, weights) + biases\n",
    "\n",
    "with tf.name_scope('cross_entropy'):\n",
    "    cross_entropy = tf.reduce_mean(\n",
    "        tf.nn.softmax_cross_entropy_with_logits_v2(logits=logits, labels=y_))\n",
    "tf.summary.scalar('loss', cross_entropy)\n",
    "\n",
    "with tf.name_scope('train'):\n",
    "    train_step = tf.train.GradientDescentOptimizer(learning_rate).minimize(cross_entropy)\n",
    "\n",
    "with tf.name_scope('accuracy'):\n",
    "    y = tf.nn.softmax(logits)\n",
    "    correct_prediction = tf.equal(tf.argmax(y,1), tf.argmax(y_,1))\n",
    "    accuracy = tf.reduce_mean(tf.cast(correct_prediction, 'float'))\n",
    "tf.summary.scalar('acc', accuracy)"
   ]
  },
  {
   "cell_type": "code",
   "execution_count": null,
   "metadata": {
    "scrolled": false
   },
   "outputs": [],
   "source": [
    "init = tf.global_variables_initializer()\n",
    "merged = tf.summary.merge_all()\n",
    "\n",
    "with tf.Session() as sess:\n",
    "    sess.run(init)\n",
    "    \n",
    "    train_writer = tf.summary.FileWriter('MNIST/logs/train_relu', sess.graph)\n",
    "    test_writer = tf.summary.FileWriter('MNIST/logs/test_relu')\n",
    "    \n",
    "    for i in range(total_step):\n",
    "        batch_xs, batch_ys = mnist.train.next_batch(batch_size)\n",
    "        \n",
    "        summary, _ = sess.run([merged, train_step], feed_dict={x: batch_xs, y_: batch_ys})\n",
    "        train_writer.add_summary(summary, i)\n",
    "        \n",
    "        if i % 10 == 0:\n",
    "            summary = sess.run(merged, feed_dict={x: mnist.test.images, y_: mnist.test.labels})\n",
    "            test_writer.add_summary(summary, i)\n",
    "        \n",
    "        if i % 100 == 0:\n",
    "            loss, acc = sess.run([cross_entropy, accuracy],\n",
    "                                 feed_dict={x: batch_xs, y_: batch_ys})\n",
    "            test_loss, test_acc = sess.run([cross_entropy, accuracy], \n",
    "                                           feed_dict={x: mnist.test.images, y_: mnist.test.labels})\n",
    "            print('step: {:4d}\\t loss: {:.2f}\\t acc: {:.2f}\\t test_loss: {:.2f}\\t test_acc: {:.2f}'.\n",
    "                  format(i, loss, acc, test_loss, test_acc))\n",
    "\n",
    "    train_writer.close()\n",
    "    test_writer.close()"
   ]
  }
 ],
 "metadata": {
  "kernelspec": {
   "display_name": "Python 3",
   "language": "python",
   "name": "python3"
  },
  "language_info": {
   "codemirror_mode": {
    "name": "ipython",
    "version": 3
   },
   "file_extension": ".py",
   "mimetype": "text/x-python",
   "name": "python",
   "nbconvert_exporter": "python",
   "pygments_lexer": "ipython3",
   "version": "3.7.1"
  }
 },
 "nbformat": 4,
 "nbformat_minor": 2
}
