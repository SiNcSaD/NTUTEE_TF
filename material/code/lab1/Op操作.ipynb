{
 "cells": [
  {
   "cell_type": "code",
   "execution_count": null,
   "metadata": {},
   "outputs": [],
   "source": [
    "%matplotlib inline\n",
    "import tensorflow as tf\n",
    "import numpy as np\n",
    "import matplotlib.pyplot as plt\n"
   ]
  },
  {
   "cell_type": "code",
   "execution_count": null,
   "metadata": {},
   "outputs": [],
   "source": [
    "# import jtplot submodule from jupyterthemes\n",
    "from jupyterthemes import jtplot\n",
    "\n",
    "# currently installed theme will be used to\n",
    "# set plot style if no arguments provided\n",
    "jtplot.style()"
   ]
  },
  {
   "cell_type": "code",
   "execution_count": null,
   "metadata": {},
   "outputs": [],
   "source": [
    "a = tf.constant(2)\n",
    "b = tf.constant(3)\n",
    "x = tf.add(a, b)\n",
    "writer = tf.summary.FileWriter('./graphs', tf.get_default_graph())\n",
    "with tf.Session() as sess:\n",
    "\t# writer = tf.summary.FileWriter('./graphs', sess.graph) \n",
    "\tprint(sess.run(x))\n",
    "writer.close() # close the writer when you’re done using it"
   ]
  },
  {
   "attachments": {},
   "cell_type": "markdown",
   "metadata": {},
   "source": [
    "# 練習題-1\n",
    "建立 x 張量其數值為[[0, -2, -1], [0, 1, 2]]，而 y 張量大小形狀與 x 相同且裡面為0，最後以布林判斷 x 與 y 元素。 <br/>\n",
    "提示: tf.constant、tf.equal、tf.zeros_like\n"
   ]
  },
  {
   "cell_type": "code",
   "execution_count": null,
   "metadata": {},
   "outputs": [],
   "source": [
    "x = tf.constant([[0, -2, -1], [0, 1, 2]])\n",
    "y = tf.zeros_like(x)\n",
    "out = tf.equal(x, y)\n",
    "with tf.Session() as sess:\n",
    "    print(sess.run(out))"
   ]
  },
  {
   "attachments": {},
   "cell_type": "markdown",
   "metadata": {},
   "source": [
    "# 練習題-2\n",
    "建立隨機分佈 x & y 張量 ，張量大小為300，使用 tf.cond()當平均小於0，輸出(x-y)^2的平均值，當平均大於0輸出|(𝑥−𝑦)|的總和 <br/>\n",
    "提示：tf.random_normal、tf.reduce_mean、tf.square、tf.abs、tf.cond\n"
   ]
  },
  {
   "cell_type": "code",
   "execution_count": null,
   "metadata": {},
   "outputs": [],
   "source": [
    "x = tf.random_normal([300], mean=5, stddev=1)\n",
    "y = tf.random_normal([300], mean=5, stddev=1)\n",
    "average = tf.reduce_mean(x - y)\n",
    "def f1(): return tf.reduce_mean(tf.square(x - y))\n",
    "def f2(): return tf.reduce_sum(tf.abs(x - y))\n",
    "out = tf.cond(average < 0, f1, f2)\n",
    "with tf.Session() as sess:\n",
    "    print(sess.run(average))\n",
    "    print(sess.run(out))"
   ]
  },
  {
   "attachments": {},
   "cell_type": "markdown",
   "metadata": {},
   "source": [
    "# 練習題-3\n",
    "X為10、y為20，使用Variable輸出x與y的相加值。\n"
   ]
  },
  {
   "cell_type": "code",
   "execution_count": null,
   "metadata": {},
   "outputs": [],
   "source": [
    "x = tf.Variable(10, name='x')\n",
    "y = tf.Variable(20, name='y')\n",
    "z = tf.add(x, y)\n",
    "\n",
    "with tf.Session() as sess:\n",
    "    sess.run(tf.global_variables_initializer())\n",
    "    print(sess.run(z))"
   ]
  },
  {
   "attachments": {},
   "cell_type": "markdown",
   "metadata": {},
   "source": [
    "# 練習題-4\n",
    "A為2+5、B為a*3，試試 feed_dict 另 a=15會有甚麼結果?"
   ]
  },
  {
   "cell_type": "code",
   "execution_count": null,
   "metadata": {},
   "outputs": [],
   "source": [
    "a = tf.add(2, 5)\n",
    "b = tf.multiply(a, 3)\n",
    "\n",
    "with tf.Session() as sess:\n",
    "    print(sess.run(b))                                 \n",
    "    print(sess.run(b, feed_dict={a: 15}))              "
   ]
  },
  {
   "attachments": {},
   "cell_type": "markdown",
   "metadata": {},
   "source": [
    "# 實作題\n",
    "此線性方程式為：Y=0.1*X+0.3，建立神經元並訓練使其能得出與該方程式相同結果。"
   ]
  },
  {
   "cell_type": "code",
   "execution_count": null,
   "metadata": {
    "scrolled": false
   },
   "outputs": [],
   "source": [
    "# create data\n",
    "x_data = np.random.rand(100).astype(np.float32)\n",
    "y_data = x_data * 0.1 + 0.3\n",
    "Weights = tf.Variable(tf.random_uniform([1], -1.0, 1.0), name=\"W\")\n",
    "biases = tf.Variable(tf.zeros([1]), name=\"B\")\n",
    "\n",
    "y = Weights*x_data + biases\n",
    "loss = tf.reduce_mean(tf.square(y - y_data))\n",
    "optimizer = tf.train.GradientDescentOptimizer(0.5)\n",
    "train = optimizer.minimize(loss)\n",
    "\n",
    "init = tf.global_variables_initializer() \n",
    "\n",
    "## 可視化資料\n",
    "# plt.plot(x_data, y_data, 'o')\n",
    "# plt.show()\n",
    "\n",
    "with tf.Session() as sess:\n",
    "    sess.run(init)          # Very important\n",
    "\n",
    "    for step in range(201):\n",
    "        sess.run(train)\n",
    "        if step % 20 == 0:\n",
    "            print(step, sess.run(Weights), sess.run(biases))"
   ]
  },
  {
   "cell_type": "code",
   "execution_count": null,
   "metadata": {},
   "outputs": [],
   "source": []
  }
 ],
 "metadata": {
  "kernelspec": {
   "display_name": "Python 3",
   "language": "python",
   "name": "python3"
  },
  "language_info": {
   "codemirror_mode": {
    "name": "ipython",
    "version": 3
   },
   "file_extension": ".py",
   "mimetype": "text/x-python",
   "name": "python",
   "nbconvert_exporter": "python",
   "pygments_lexer": "ipython3",
   "version": "3.6.7"
  }
 },
 "nbformat": 4,
 "nbformat_minor": 2
}
